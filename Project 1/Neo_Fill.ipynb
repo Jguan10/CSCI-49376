{
 "cells": [
  {
   "cell_type": "markdown",
   "metadata": {},
   "source": [
    "Code for adding nodes and edges to Neo4j"
   ]
  },
  {
   "cell_type": "code",
   "execution_count": 16,
   "metadata": {},
   "outputs": [],
   "source": [
    "from neo4j import GraphDatabase\n",
    "from tqdm import tqdm\n",
    "import pandas as pd"
   ]
  },
  {
   "cell_type": "code",
   "execution_count": 17,
   "metadata": {},
   "outputs": [],
   "source": [
    "edgesdf = pd.read_csv('Data/edges.tsv', sep = '\\t')\n",
    "nodesdf = pd.read_csv('Data/nodes.tsv', sep ='\\t')"
   ]
  },
  {
   "cell_type": "code",
   "execution_count": 18,
   "metadata": {},
   "outputs": [],
   "source": [
    "uri = \"neo4j+s://ed7c1538.databases.neo4j.io\"\n",
    "username = \"neo4j\"\n",
    "password = \"p0oXR2cgnZXajwX2Nm-Wk6rJXoNfv1QfLlFZAjQ9LUM\"\n",
    "auth=(username, password)"
   ]
  },
  {
   "cell_type": "code",
   "execution_count": 19,
   "metadata": {},
   "outputs": [],
   "source": [
    "def create_indexes(tx):\n",
    "    \"\"\"Create indexes for faster lookups.\"\"\"\n",
    "    index_queries = [\n",
    "        \"CREATE INDEX IF NOT EXISTS FOR (n:Node) ON (n.id)\",\n",
    "        \"CREATE INDEX IF NOT EXISTS FOR (n:Node) ON (n.kind)\",\n",
    "        \"CREATE INDEX IF NOT EXISTS FOR (n:Node) ON (n.name)\",\n",
    "        \"CREATE INDEX IF NOT EXISTS FOR ()-[r:CONNECTED]->() ON (r.source)\",\n",
    "        \"CREATE INDEX IF NOT EXISTS FOR ()-[r:CONNECTED]->() ON (r.metaedge)\",\n",
    "        \"CREATE INDEX IF NOT EXISTS FOR ()-[r:CONNECTED]->() ON (r.target)\"\n",
    "    ]\n",
    "    for query in index_queries:\n",
    "        tx.run(query)"
   ]
  },
  {
   "cell_type": "code",
   "execution_count": 21,
   "metadata": {},
   "outputs": [],
   "source": [
    "def add_nodes_in_batches(tx, nodes_batch):\n",
    "    \"\"\"Insert nodes in batches.\"\"\"\n",
    "    query = \"\"\"\n",
    "    UNWIND $batch AS node\n",
    "    MERGE (n:Node {id: node.id})\n",
    "    SET n.kind = node.kind, n.name = node.name\n",
    "    \"\"\"\n",
    "    tx.run(query, batch=nodes_batch)\n",
    "\n",
    "def add_edges_in_batches(tx, edges_batch):\n",
    "    \"\"\"Insert edges in batches.\"\"\"\n",
    "    query = \"\"\"\n",
    "    UNWIND $batch AS edge\n",
    "    MATCH (source:Node {id: edge.source})\n",
    "    MATCH (target:Node {id: edge.target})\n",
    "    MERGE (source)-[r:CONNECTED {metaedge: edge.metaedge}]->(target)\n",
    "    \"\"\"\n",
    "    tx.run(query, batch=edges_batch)\n",
    "\n",
    "def chunked_list(data, chunk_size=1000):\n",
    "    \"\"\"Yield data in chunks of `chunk_size`.\"\"\"\n",
    "    for i in range(0, len(data), chunk_size):\n",
    "        yield data[i:i + chunk_size]\n"
   ]
  },
  {
   "cell_type": "code",
   "execution_count": 22,
   "metadata": {},
   "outputs": [
    {
     "name": "stdout",
     "output_type": "stream",
     "text": [
      "Creating indexes...\n",
      "Adding nodes...\n"
     ]
    },
    {
     "name": "stderr",
     "output_type": "stream",
     "text": [
      "100%|██████████| 24/24 [00:05<00:00,  4.65it/s]\n"
     ]
    },
    {
     "name": "stdout",
     "output_type": "stream",
     "text": [
      "Adding edges...\n"
     ]
    },
    {
     "name": "stderr",
     "output_type": "stream",
     "text": [
      " 31%|███       | 400/1293 [01:36<03:34,  4.16it/s]\n"
     ]
    },
    {
     "ename": "ClientError",
     "evalue": "{code: Neo.ClientError.Transaction.TransactionHookFailed} {message: You have exceeded the logical size limit of 400000 relationships in your database (attempt to add 1000 relationships would reach 401000 relationships). Please consider upgrading to the next tier.}",
     "output_type": "error",
     "traceback": [
      "\u001b[1;31m---------------------------------------------------------------------------\u001b[0m",
      "\u001b[1;31mClientError\u001b[0m                               Traceback (most recent call last)",
      "Cell \u001b[1;32mIn[22], line 14\u001b[0m\n\u001b[0;32m     12\u001b[0m edges_data \u001b[38;5;241m=\u001b[39m edgesdf\u001b[38;5;241m.\u001b[39mto_dict(orient\u001b[38;5;241m=\u001b[39m\u001b[38;5;124m\"\u001b[39m\u001b[38;5;124mrecords\u001b[39m\u001b[38;5;124m\"\u001b[39m)\n\u001b[0;32m     13\u001b[0m \u001b[38;5;28;01mfor\u001b[39;00m batch \u001b[38;5;129;01min\u001b[39;00m tqdm(chunked_list(edges_data), total\u001b[38;5;241m=\u001b[39m\u001b[38;5;28mlen\u001b[39m(edges_data) \u001b[38;5;241m/\u001b[39m\u001b[38;5;241m/\u001b[39m \u001b[38;5;241m1000\u001b[39m \u001b[38;5;241m+\u001b[39m \u001b[38;5;241m1\u001b[39m):\n\u001b[1;32m---> 14\u001b[0m     session\u001b[38;5;241m.\u001b[39mexecute_write(add_edges_in_batches, batch)\n\u001b[0;32m     16\u001b[0m \u001b[38;5;28mprint\u001b[39m(\u001b[38;5;124m\"\u001b[39m\u001b[38;5;124mData import complete!\u001b[39m\u001b[38;5;124m\"\u001b[39m)\n",
      "File \u001b[1;32mc:\\Users\\Jason\\anaconda3\\Lib\\site-packages\\neo4j\\_sync\\work\\session.py:803\u001b[0m, in \u001b[0;36mSession.execute_write\u001b[1;34m(self, transaction_function, *args, **kwargs)\u001b[0m\n\u001b[0;32m    750\u001b[0m \u001b[38;5;129m@NonConcurrentMethodChecker\u001b[39m\u001b[38;5;241m.\u001b[39m_non_concurrent_method\n\u001b[0;32m    751\u001b[0m \u001b[38;5;28;01mdef\u001b[39;00m \u001b[38;5;21mexecute_write\u001b[39m(\n\u001b[0;32m    752\u001b[0m     \u001b[38;5;28mself\u001b[39m,\n\u001b[1;32m   (...)\u001b[0m\n\u001b[0;32m    757\u001b[0m     \u001b[38;5;241m*\u001b[39m\u001b[38;5;241m*\u001b[39mkwargs: _P\u001b[38;5;241m.\u001b[39mkwargs,\n\u001b[0;32m    758\u001b[0m ) \u001b[38;5;241m-\u001b[39m\u001b[38;5;241m>\u001b[39m _R:\n\u001b[0;32m    759\u001b[0m \u001b[38;5;250m    \u001b[39m\u001b[38;5;124;03m\"\"\"\u001b[39;00m\n\u001b[0;32m    760\u001b[0m \u001b[38;5;124;03m    Execute a unit of work in a managed write transaction.\u001b[39;00m\n\u001b[0;32m    761\u001b[0m \n\u001b[1;32m   (...)\u001b[0m\n\u001b[0;32m    801\u001b[0m \u001b[38;5;124;03m    .. versionadded:: 5.0\u001b[39;00m\n\u001b[0;32m    802\u001b[0m \u001b[38;5;124;03m    \"\"\"\u001b[39;00m  \u001b[38;5;66;03m# noqa: E501 example code isn't too long\u001b[39;00m\n\u001b[1;32m--> 803\u001b[0m     \u001b[38;5;28;01mreturn\u001b[39;00m \u001b[38;5;28mself\u001b[39m\u001b[38;5;241m.\u001b[39m_run_transaction(\n\u001b[0;32m    804\u001b[0m         WRITE_ACCESS,\n\u001b[0;32m    805\u001b[0m         TelemetryAPI\u001b[38;5;241m.\u001b[39mTX_FUNC,\n\u001b[0;32m    806\u001b[0m         transaction_function,\n\u001b[0;32m    807\u001b[0m         args,\n\u001b[0;32m    808\u001b[0m         kwargs,\n\u001b[0;32m    809\u001b[0m     )\n",
      "File \u001b[1;32mc:\\Users\\Jason\\anaconda3\\Lib\\site-packages\\neo4j\\_sync\\work\\session.py:595\u001b[0m, in \u001b[0;36mSession._run_transaction\u001b[1;34m(self, access_mode, api, transaction_function, args, kwargs)\u001b[0m\n\u001b[0;32m    593\u001b[0m         \u001b[38;5;28;01mraise\u001b[39;00m\n\u001b[0;32m    594\u001b[0m     \u001b[38;5;28;01melse\u001b[39;00m:\n\u001b[1;32m--> 595\u001b[0m         tx\u001b[38;5;241m.\u001b[39m_commit()\n\u001b[0;32m    596\u001b[0m \u001b[38;5;28;01mexcept\u001b[39;00m (DriverError, Neo4jError) \u001b[38;5;28;01mas\u001b[39;00m error:\n\u001b[0;32m    597\u001b[0m     \u001b[38;5;28mself\u001b[39m\u001b[38;5;241m.\u001b[39m_disconnect()\n",
      "File \u001b[1;32mc:\\Users\\Jason\\anaconda3\\Lib\\site-packages\\neo4j\\_sync\\work\\transaction.py:225\u001b[0m, in \u001b[0;36mTransactionBase._commit\u001b[1;34m(self)\u001b[0m\n\u001b[0;32m    223\u001b[0m \u001b[38;5;28mself\u001b[39m\u001b[38;5;241m.\u001b[39m_connection\u001b[38;5;241m.\u001b[39mcommit(on_success\u001b[38;5;241m=\u001b[39mmetadata\u001b[38;5;241m.\u001b[39mupdate)\n\u001b[0;32m    224\u001b[0m \u001b[38;5;28mself\u001b[39m\u001b[38;5;241m.\u001b[39m_connection\u001b[38;5;241m.\u001b[39msend_all()\n\u001b[1;32m--> 225\u001b[0m \u001b[38;5;28mself\u001b[39m\u001b[38;5;241m.\u001b[39m_connection\u001b[38;5;241m.\u001b[39mfetch_all()\n\u001b[0;32m    226\u001b[0m \u001b[38;5;28mself\u001b[39m\u001b[38;5;241m.\u001b[39m_bookmark \u001b[38;5;241m=\u001b[39m metadata\u001b[38;5;241m.\u001b[39mget(\u001b[38;5;124m\"\u001b[39m\u001b[38;5;124mbookmark\u001b[39m\u001b[38;5;124m\"\u001b[39m)\n\u001b[0;32m    227\u001b[0m \u001b[38;5;28mself\u001b[39m\u001b[38;5;241m.\u001b[39m_database \u001b[38;5;241m=\u001b[39m metadata\u001b[38;5;241m.\u001b[39mget(\u001b[38;5;124m\"\u001b[39m\u001b[38;5;124mdb\u001b[39m\u001b[38;5;124m\"\u001b[39m, \u001b[38;5;28mself\u001b[39m\u001b[38;5;241m.\u001b[39m_database)\n",
      "File \u001b[1;32mc:\\Users\\Jason\\anaconda3\\Lib\\site-packages\\neo4j\\_sync\\io\\_bolt.py:879\u001b[0m, in \u001b[0;36mBolt.fetch_all\u001b[1;34m(self)\u001b[0m\n\u001b[0;32m    877\u001b[0m response \u001b[38;5;241m=\u001b[39m \u001b[38;5;28mself\u001b[39m\u001b[38;5;241m.\u001b[39mresponses[\u001b[38;5;241m0\u001b[39m]\n\u001b[0;32m    878\u001b[0m \u001b[38;5;28;01mwhile\u001b[39;00m \u001b[38;5;129;01mnot\u001b[39;00m response\u001b[38;5;241m.\u001b[39mcomplete:\n\u001b[1;32m--> 879\u001b[0m     detail_delta, summary_delta \u001b[38;5;241m=\u001b[39m \u001b[38;5;28mself\u001b[39m\u001b[38;5;241m.\u001b[39mfetch_message()\n\u001b[0;32m    880\u001b[0m     detail_count \u001b[38;5;241m+\u001b[39m\u001b[38;5;241m=\u001b[39m detail_delta\n\u001b[0;32m    881\u001b[0m     summary_count \u001b[38;5;241m+\u001b[39m\u001b[38;5;241m=\u001b[39m summary_delta\n",
      "File \u001b[1;32mc:\\Users\\Jason\\anaconda3\\Lib\\site-packages\\neo4j\\_sync\\io\\_bolt.py:864\u001b[0m, in \u001b[0;36mBolt.fetch_message\u001b[1;34m(self)\u001b[0m\n\u001b[0;32m    860\u001b[0m \u001b[38;5;66;03m# Receive exactly one message\u001b[39;00m\n\u001b[0;32m    861\u001b[0m tag, fields \u001b[38;5;241m=\u001b[39m \u001b[38;5;28mself\u001b[39m\u001b[38;5;241m.\u001b[39minbox\u001b[38;5;241m.\u001b[39mpop(\n\u001b[0;32m    862\u001b[0m     hydration_hooks\u001b[38;5;241m=\u001b[39m\u001b[38;5;28mself\u001b[39m\u001b[38;5;241m.\u001b[39mresponses[\u001b[38;5;241m0\u001b[39m]\u001b[38;5;241m.\u001b[39mhydration_hooks\n\u001b[0;32m    863\u001b[0m )\n\u001b[1;32m--> 864\u001b[0m res \u001b[38;5;241m=\u001b[39m \u001b[38;5;28mself\u001b[39m\u001b[38;5;241m.\u001b[39m_process_message(tag, fields)\n\u001b[0;32m    865\u001b[0m \u001b[38;5;28mself\u001b[39m\u001b[38;5;241m.\u001b[39midle_since \u001b[38;5;241m=\u001b[39m monotonic()\n\u001b[0;32m    866\u001b[0m \u001b[38;5;28;01mreturn\u001b[39;00m res\n",
      "File \u001b[1;32mc:\\Users\\Jason\\anaconda3\\Lib\\site-packages\\neo4j\\_sync\\io\\_bolt5.py:1208\u001b[0m, in \u001b[0;36mBolt5x7._process_message\u001b[1;34m(self, tag, fields)\u001b[0m\n\u001b[0;32m   1206\u001b[0m \u001b[38;5;28mself\u001b[39m\u001b[38;5;241m.\u001b[39m_enrich_error_diagnostic_record(summary_metadata)\n\u001b[0;32m   1207\u001b[0m \u001b[38;5;28;01mtry\u001b[39;00m:\n\u001b[1;32m-> 1208\u001b[0m     response\u001b[38;5;241m.\u001b[39mon_failure(summary_metadata \u001b[38;5;129;01mor\u001b[39;00m {})\n\u001b[0;32m   1209\u001b[0m \u001b[38;5;28;01mexcept\u001b[39;00m (ServiceUnavailable, DatabaseUnavailable):\n\u001b[0;32m   1210\u001b[0m     \u001b[38;5;28;01mif\u001b[39;00m \u001b[38;5;28mself\u001b[39m\u001b[38;5;241m.\u001b[39mpool:\n",
      "File \u001b[1;32mc:\\Users\\Jason\\anaconda3\\Lib\\site-packages\\neo4j\\_sync\\io\\_common.py:254\u001b[0m, in \u001b[0;36mResponse.on_failure\u001b[1;34m(self, metadata)\u001b[0m\n\u001b[0;32m    252\u001b[0m handler \u001b[38;5;241m=\u001b[39m \u001b[38;5;28mself\u001b[39m\u001b[38;5;241m.\u001b[39mhandlers\u001b[38;5;241m.\u001b[39mget(\u001b[38;5;124m\"\u001b[39m\u001b[38;5;124mon_summary\u001b[39m\u001b[38;5;124m\"\u001b[39m)\n\u001b[0;32m    253\u001b[0m Util\u001b[38;5;241m.\u001b[39mcallback(handler)\n\u001b[1;32m--> 254\u001b[0m \u001b[38;5;28;01mraise\u001b[39;00m \u001b[38;5;28mself\u001b[39m\u001b[38;5;241m.\u001b[39m_hydrate_error(metadata)\n",
      "\u001b[1;31mClientError\u001b[0m: {code: Neo.ClientError.Transaction.TransactionHookFailed} {message: You have exceeded the logical size limit of 400000 relationships in your database (attempt to add 1000 relationships would reach 401000 relationships). Please consider upgrading to the next tier.}"
     ]
    }
   ],
   "source": [
    "with GraphDatabase.driver(uri=uri, auth=auth) as driver:\n",
    "    with driver.session() as session:\n",
    "        print(\"Creating indexes...\")\n",
    "        session.execute_write(create_indexes)\n",
    "\n",
    "        print(\"Adding nodes...\")\n",
    "        nodes_data = nodesdf.to_dict(orient=\"records\")\n",
    "        for batch in tqdm(chunked_list(nodes_data), total=len(nodes_data) // 1000 + 1):\n",
    "            session.execute_write(add_nodes_in_batches, batch)\n",
    "\n",
    "        print(\"Adding edges...\")\n",
    "        edges_data = edgesdf.to_dict(orient=\"records\")\n",
    "        for batch in tqdm(chunked_list(edges_data), total=len(edges_data) // 1000 + 1):\n",
    "            session.execute_write(add_edges_in_batches, batch)\n",
    "\n",
    "        print(\"Data import complete!\")"
   ]
  }
 ],
 "metadata": {
  "kernelspec": {
   "display_name": "base",
   "language": "python",
   "name": "python3"
  },
  "language_info": {
   "codemirror_mode": {
    "name": "ipython",
    "version": 3
   },
   "file_extension": ".py",
   "mimetype": "text/x-python",
   "name": "python",
   "nbconvert_exporter": "python",
   "pygments_lexer": "ipython3",
   "version": "3.12.4"
  }
 },
 "nbformat": 4,
 "nbformat_minor": 2
}
