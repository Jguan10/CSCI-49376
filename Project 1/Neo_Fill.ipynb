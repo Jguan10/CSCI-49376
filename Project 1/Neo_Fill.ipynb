{
 "cells": [
  {
   "cell_type": "markdown",
   "metadata": {},
   "source": [
    "Code for adding nodes and edges to Neo4j"
   ]
  },
  {
   "cell_type": "code",
   "execution_count": 3,
   "metadata": {},
   "outputs": [],
   "source": [
    "from neo4j import GraphDatabase\n",
    "from tqdm import tqdm\n",
    "import pandas as pd"
   ]
  },
  {
   "cell_type": "code",
   "execution_count": 4,
   "metadata": {},
   "outputs": [],
   "source": [
    "edgesdf = pd.read_csv('Data/edges.tsv', sep = '\\t')\n",
    "nodesdf = pd.read_csv('Data/nodes.tsv', sep ='\\t')"
   ]
  },
  {
   "cell_type": "code",
   "execution_count": 12,
   "metadata": {},
   "outputs": [],
   "source": [
    "uri = \"bolt://localhost:7687\"\n",
    "username = \"neo4j\"\n",
    "password = \"12345678\"\n",
    "auth=(username, password)"
   ]
  },
  {
   "cell_type": "code",
   "execution_count": 13,
   "metadata": {},
   "outputs": [],
   "source": [
    "def create_indexes(tx):\n",
    "    \"\"\"Create indexes for faster lookups.\"\"\"\n",
    "    index_queries = [\n",
    "        \"CREATE INDEX IF NOT EXISTS FOR (n:Node) ON (n.id)\",\n",
    "        \"CREATE INDEX IF NOT EXISTS FOR (n:Node) ON (n.kind)\",\n",
    "        \"CREATE INDEX IF NOT EXISTS FOR (n:Node) ON (n.name)\",\n",
    "        \"CREATE INDEX IF NOT EXISTS FOR ()-[r:CONNECTED]->() ON (r.metaedge)\"\n",
    "    ]\n",
    "    for query in index_queries:\n",
    "        tx.run(query)"
   ]
  },
  {
   "cell_type": "code",
   "execution_count": 14,
   "metadata": {},
   "outputs": [],
   "source": [
    "def add_nodes_in_batches(tx, nodes_batch):\n",
    "    \"\"\"Insert nodes in batches.\"\"\"\n",
    "    query = \"\"\"\n",
    "    UNWIND $batch AS node\n",
    "    MERGE (n:Node {id: node.id})\n",
    "    SET n.kind = node.kind, n.name = node.name\n",
    "    \"\"\"\n",
    "    tx.run(query, batch=nodes_batch)\n",
    "\n",
    "def add_edges_in_batches(tx, edges_batch):\n",
    "    \"\"\"Insert edges in batches.\"\"\"\n",
    "    query = \"\"\"\n",
    "    UNWIND $batch AS edge\n",
    "    MATCH (source:Node {id: edge.source})\n",
    "    MATCH (target:Node {id: edge.target})\n",
    "    MERGE (source)-[r:CONNECTED {metaedge: edge.metaedge}]->(target)\n",
    "    \"\"\"\n",
    "    tx.run(query, batch=edges_batch)\n",
    "\n",
    "def chunked_list(data, chunk_size=1000):\n",
    "    \"\"\"Yield data in chunks of `chunk_size`.\"\"\"\n",
    "    for i in range(0, len(data), chunk_size):\n",
    "        yield data[i:i + chunk_size]\n"
   ]
  },
  {
   "cell_type": "code",
   "execution_count": 15,
   "metadata": {},
   "outputs": [
    {
     "name": "stdout",
     "output_type": "stream",
     "text": [
      "Creating indexes...\n",
      "Adding nodes...\n"
     ]
    },
    {
     "name": "stderr",
     "output_type": "stream",
     "text": [
      "100%|██████████| 24/24 [00:06<00:00,  3.45it/s]\n"
     ]
    },
    {
     "name": "stdout",
     "output_type": "stream",
     "text": [
      "Adding edges...\n"
     ]
    },
    {
     "name": "stderr",
     "output_type": "stream",
     "text": [
      "100%|██████████| 1293/1293 [10:24<00:00,  2.07it/s]  "
     ]
    },
    {
     "name": "stdout",
     "output_type": "stream",
     "text": [
      "Data import complete!\n"
     ]
    },
    {
     "name": "stderr",
     "output_type": "stream",
     "text": [
      "\n"
     ]
    }
   ],
   "source": [
    "with GraphDatabase.driver(uri=uri, auth=auth) as driver:\n",
    "    with driver.session() as session:\n",
    "        print(\"Creating indexes...\")\n",
    "        session.execute_write(create_indexes)\n",
    "\n",
    "        print(\"Adding nodes...\")\n",
    "        nodes_data = nodesdf.to_dict(orient=\"records\")\n",
    "        for batch in tqdm(chunked_list(nodes_data), total=len(nodes_data) // 1000 + 1):\n",
    "            session.execute_write(add_nodes_in_batches, batch)\n",
    "\n",
    "        print(\"Adding edges...\")\n",
    "        edges_data = edgesdf.to_dict(orient=\"records\")\n",
    "        for batch in tqdm(chunked_list(edges_data), total=len(edges_data) // 1000 + 1):\n",
    "            session.execute_write(add_edges_in_batches, batch)\n",
    "\n",
    "        print(\"Data import complete!\")"
   ]
  }
 ],
 "metadata": {
  "kernelspec": {
   "display_name": "Python 3",
   "language": "python",
   "name": "python3"
  },
  "language_info": {
   "codemirror_mode": {
    "name": "ipython",
    "version": 3
   },
   "file_extension": ".py",
   "mimetype": "text/x-python",
   "name": "python",
   "nbconvert_exporter": "python",
   "pygments_lexer": "ipython3",
   "version": "3.10.11"
  }
 },
 "nbformat": 4,
 "nbformat_minor": 2
}
