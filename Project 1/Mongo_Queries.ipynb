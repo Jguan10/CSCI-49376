{
 "cells": [
  {
   "cell_type": "markdown",
   "metadata": {},
   "source": [
    "Code for queries 1 and 2 for project 1, querying mongoDB"
   ]
  },
  {
   "cell_type": "code",
   "execution_count": 35,
   "metadata": {},
   "outputs": [],
   "source": [
    "from pymongo.mongo_client import MongoClient\n",
    "from pymongo.server_api import ServerApi"
   ]
  },
  {
   "cell_type": "code",
   "execution_count": 36,
   "metadata": {},
   "outputs": [],
   "source": [
    "uri = \"mongodb://localhost:27017\"\n",
    "client = MongoClient(uri, server_api=ServerApi('1'))"
   ]
  },
  {
   "cell_type": "code",
   "execution_count": 37,
   "metadata": {},
   "outputs": [
    {
     "name": "stdout",
     "output_type": "stream",
     "text": [
      "Pinged your deployment. You successfully connected to MongoDB!\n"
     ]
    }
   ],
   "source": [
    "try:\n",
    "    client.admin.command('ping')\n",
    "    print(\"Pinged your deployment. You successfully connected to MongoDB!\")\n",
    "except Exception as e:\n",
    "    print(e)"
   ]
  },
  {
   "cell_type": "code",
   "execution_count": 38,
   "metadata": {},
   "outputs": [],
   "source": [
    "db = client['Project1']\n",
    "nodes = db['nodes']\n",
    "edges = db['edges']"
   ]
  },
  {
   "cell_type": "code",
   "execution_count": 7,
   "metadata": {},
   "outputs": [],
   "source": [
    "def query1(node_id):\n",
    "    result = nodes.aggregate([{\n",
    "        \"$match\": {\n",
    "            \"$or\": [\n",
    "\n",
    "                # Include original node to get name\n",
    "                {\"id\": node_id}, \n",
    "\n",
    "                # Disease is associated with genes or located in anatomy\n",
    "                {\"id\": {\"$in\": list(edges.distinct(\"target\", {\n",
    "                    \"source\": node_id,\n",
    "                    \"metaedge\": {\"$in\": [\"DlA\", \"DaG\"]}}))}\n",
    "                },\n",
    "\n",
    "                # Compound treats or palliates disease \n",
    "                {\"id\": {\"$in\": list(edges.distinct(\"source\", {\n",
    "                    \"target\": node_id,\n",
    "                    \"metaedge\": {\"$in\": [\"CpD\", \"CtD\"]}}))}\n",
    "                }\n",
    "            ]\n",
    "        }\n",
    "    }])\n",
    "\n",
    "\n",
    "    return result\n"
   ]
  },
  {
   "cell_type": "code",
   "execution_count": 16,
   "metadata": {},
   "outputs": [],
   "source": [
    "results = query1('Disease::DOID:184')"
   ]
  },
  {
   "cell_type": "code",
   "execution_count": 13,
   "metadata": {},
   "outputs": [],
   "source": [
    "def q1_to_file(file_path, q1):\n",
    "    genes = []\n",
    "    diseases = []\n",
    "    compounds = []\n",
    "    anatomy = []\n",
    "\n",
    "    for node in q1:\n",
    "        kind = node[\"kind\"]\n",
    "        name = node[\"name\"]\n",
    "\n",
    "        if kind == \"Gene\":\n",
    "            genes.append(name)\n",
    "        elif kind == \"Disease\":\n",
    "            diseases.append(name)\n",
    "        elif kind == \"Compound\":\n",
    "            compounds.append(name)\n",
    "        elif kind == \"Anatomy\":\n",
    "            anatomy.append(name)\n",
    "\n",
    "    with open(file_path, 'w') as file:\n",
    "        file.write(\"Disease Name:\\n\")\n",
    "        for item in diseases:\n",
    "            file.write(str(item) + '\\n')\n",
    "        file.write(\"Gene Causes :\\n\")\n",
    "        for item in genes:\n",
    "            file.write(str(item) + '\\n')\n",
    "        file.write(\"Drug Treat/Palliate:\\n\")\n",
    "        for item in compounds:\n",
    "            file.write(str(item) + '\\n')\n",
    "        file.write(\"Anatomy/Disease Occurs:\\n\")\n",
    "        for item in anatomy:\n",
    "            file.write(str(item) + '\\n')"
   ]
  },
  {
   "cell_type": "code",
   "execution_count": 17,
   "metadata": {},
   "outputs": [],
   "source": [
    "q1_to_file('query1.txt', results)"
   ]
  },
  {
   "cell_type": "code",
   "execution_count": 55,
   "metadata": {},
   "outputs": [],
   "source": [
    "def query2():\n",
    "    pipeline = [\n",
    "        # Start with compounds only\n",
    "        {\"$match\": {\"kind\": \"Compound\"}},\n",
    "        \n",
    "        # Lookup compound->gene edges with projection to reduce data transfer\n",
    "        {\"$lookup\": {\n",
    "            \"from\": \"edges\",\n",
    "            \"let\": {\"compound_id\": \"$id\"},\n",
    "            \"pipeline\": [\n",
    "                {\"$match\": {\n",
    "                    \"$expr\": {\n",
    "                        \"$and\": [\n",
    "                            {\"$eq\": [\"$source\", \"$$compound_id\"]},\n",
    "                            {\"$in\": [\"$metaedge\", [\"CdG\", \"CuG\"]]}\n",
    "                        ]\n",
    "                    }\n",
    "                }},\n",
    "                # Only keep the target (gene_id) and metaedge fields\n",
    "                {\"$project\": {\n",
    "                    \"target\": 1,\n",
    "                    \"metaedge\": 1,\n",
    "                    \"_id\": 0\n",
    "                }}\n",
    "            ],\n",
    "            \"as\": \"compound_gene_edges\"\n",
    "        }},\n",
    "        \n",
    "        # Filter out compounds without gene connections\n",
    "        {\"$match\": {\"compound_gene_edges\": {\"$ne\": []}}},\n",
    "        \n",
    "        # Unwind to process each gene connection individually\n",
    "        {\"$unwind\": \"$compound_gene_edges\"},\n",
    "        \n",
    "        # Lookup anatomy->gene connections for the specific gene\n",
    "        {\"$lookup\": {\n",
    "            \"from\": \"edges\",\n",
    "            \"let\": {\"gene_id\": \"$compound_gene_edges.target\", \n",
    "                   \"compound_metaedge\": \"$compound_gene_edges.metaedge\"},\n",
    "            \"pipeline\": [\n",
    "                {\"$match\": {\n",
    "                    \"$expr\": {\n",
    "                        \"$and\": [\n",
    "                            {\"$eq\": [\"$target\", \"$$gene_id\"]},\n",
    "                            {\"$in\": [\"$metaedge\", [\"AuG\", \"AdG\"]]},\n",
    "                            # Match relationship patterns directly\n",
    "                            {\"$or\": [\n",
    "                                {\"$and\": [\n",
    "                                    {\"$eq\": [\"$$compound_metaedge\", \"CuG\"]},\n",
    "                                    {\"$eq\": [\"$metaedge\", \"AdG\"]}\n",
    "                                ]},\n",
    "                                {\"$and\": [\n",
    "                                    {\"$eq\": [\"$$compound_metaedge\", \"CdG\"]},\n",
    "                                    {\"$eq\": [\"$metaedge\", \"AuG\"]}\n",
    "                                ]}\n",
    "                            ]}\n",
    "                        ]\n",
    "                    }\n",
    "                }},\n",
    "                {\"$limit\": 1} # Still keep the limit 1 for efficiency\n",
    "            ],\n",
    "            \"as\": \"anatomy_gene_edges\"\n",
    "        }},\n",
    "        \n",
    "        # Keep only compounds that have matching anatomy-gene connections\n",
    "        {\"$match\": {\"anatomy_gene_edges\": {\"$ne\": []}}},\n",
    "        \n",
    "        # Group by compound ID to remove duplicates, keep just the name\n",
    "        {\"$group\": {\n",
    "            \"_id\": \"$id\",\n",
    "            \"name\": {\"$first\": \"$name\"}\n",
    "        }},\n",
    "        \n",
    "        # Final projection\n",
    "        {\"$project\": {\n",
    "            \"_id\": 0,\n",
    "            \"name\": 1\n",
    "        }}\n",
    "    ]\n",
    "    \n",
    "    result = list(nodes.aggregate(pipeline))\n",
    "    return result"
   ]
  },
  {
   "cell_type": "code",
   "execution_count": 56,
   "metadata": {},
   "outputs": [],
   "source": [
    "results = query2()"
   ]
  },
  {
   "cell_type": "code",
   "execution_count": 57,
   "metadata": {},
   "outputs": [
    {
     "data": {
      "text/plain": [
       "784"
      ]
     },
     "execution_count": 57,
     "metadata": {},
     "output_type": "execute_result"
    }
   ],
   "source": [
    "len(results)"
   ]
  },
  {
   "cell_type": "code",
   "execution_count": 58,
   "metadata": {},
   "outputs": [],
   "source": [
    "def q2_to_file(file_path, q2):\n",
    "    with open(file_path, 'w') as file:\n",
    "        for item in q2:\n",
    "            file.write(str(item) + '\\n')"
   ]
  },
  {
   "cell_type": "code",
   "execution_count": 59,
   "metadata": {},
   "outputs": [],
   "source": [
    "q2_to_file('query2.txt', results)"
   ]
  }
 ],
 "metadata": {
  "kernelspec": {
   "display_name": "Python 3",
   "language": "python",
   "name": "python3"
  },
  "language_info": {
   "codemirror_mode": {
    "name": "ipython",
    "version": 3
   },
   "file_extension": ".py",
   "mimetype": "text/x-python",
   "name": "python",
   "nbconvert_exporter": "python",
   "pygments_lexer": "ipython3",
   "version": "3.10.11"
  }
 },
 "nbformat": 4,
 "nbformat_minor": 2
}
