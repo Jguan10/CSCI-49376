{
 "cells": [
  {
   "cell_type": "code",
   "execution_count": 2,
   "metadata": {},
   "outputs": [],
   "source": [
    "from neo4j import GraphDatabase"
   ]
  },
  {
   "cell_type": "code",
   "execution_count": 4,
   "metadata": {},
   "outputs": [],
   "source": [
    "uri = \"neo4j+s://ed7c1538.databases.neo4j.io\"\n",
    "username = \"neo4j\"\n",
    "password = \"p0oXR2cgnZXajwX2Nm-Wk6rJXoNfv1QfLlFZAjQ9LUM\"\n",
    "auth=(username, password)\n",
    "driver = GraphDatabase.driver(uri, auth=(username, password))"
   ]
  },
  {
   "cell_type": "code",
   "execution_count": 11,
   "metadata": {},
   "outputs": [],
   "source": [
    "node_id = \"Disease::DOID:184\""
   ]
  },
  {
   "cell_type": "code",
   "execution_count": 12,
   "metadata": {},
   "outputs": [],
   "source": [
    "def query1(driver, node_id):\n",
    "    query = \"\"\"\n",
    "        MATCH (n {id: $node_id})\n",
    "        OPTIONAL MATCH (n)-[r1]->(target)\n",
    "        WHERE r1.metaedge IN ['DlA', 'DaG']\n",
    "        OPTIONAL MATCH (source)-[r2]->(n)\n",
    "        WHERE r2.metaedge IN ['CpD', 'CtD']\n",
    "        RETURN n, COLLECT(DISTINCT target) AS target_nodes, COLLECT(DISTINCT source) AS source_nodes\n",
    "    \"\"\"\n",
    "    with driver.session() as session:\n",
    "        result = session.run(query, node_id=node_id)\n",
    "    \n",
    "    return result"
   ]
  },
  {
   "cell_type": "code",
   "execution_count": 13,
   "metadata": {},
   "outputs": [],
   "source": [
    "result = query1(driver, node_id)"
   ]
  },
  {
   "cell_type": "code",
   "execution_count": 14,
   "metadata": {},
   "outputs": [],
   "source": [
    "def query2(driver):\n",
    "    query = \"\"\"\n",
    "    MATCH (c:Compound)\n",
    "    WHERE NOT (c)-[:CtD|:CpD]->(:Disease)\n",
    "    \n",
    "    OPTIONAL MATCH (c)-[cu:CuG]->(g:Gene)<-[ad:AdG]-(a:Anatomy)\n",
    "    OPTIONAL MATCH (c)-[cd:CdG]->(g2:Gene)<-[au:AuG]-(a2:Anatomy)\n",
    "    \n",
    "    WHERE (cu IS NOT NULL AND ad IS NOT NULL) \n",
    "       OR (cd IS NOT NULL AND au IS NOT NULL)\n",
    "\n",
    "    RETURN DISTINCT c.id AS compound_id, c.name AS compound_name,\n",
    "           COLLECT(DISTINCT a.name) + COLLECT(DISTINCT a2.name) AS related_anatomies\n",
    "    \"\"\"\n",
    "\n",
    "    # Execute the query and fetch results\n",
    "    with driver.session() as session:\n",
    "        results = session.run(query)\n",
    "        compounds = [\n",
    "            {\"id\": record[\"compound_id\"], \"name\": record[\"compound_name\"], \"anatomies\": record[\"related_anatomies\"]}\n",
    "            for record in results\n",
    "        ]\n",
    "\n",
    "    return compounds"
   ]
  },
  {
   "cell_type": "code",
   "execution_count": 15,
   "metadata": {},
   "outputs": [
    {
     "name": "stderr",
     "output_type": "stream",
     "text": [
      "Received notification from DBMS server: {severity: WARNING} {code: Neo.ClientNotification.Statement.UnknownRelationshipTypeWarning} {category: UNRECOGNIZED} {title: The provided relationship type is not in the database.} {description: One of the relationship types in your query is not available in the database, make sure you didn't misspell it or that the label is available when you run this statement in your application (the missing relationship type is: CuG)} {position: line: 5, column: 28, offset: 98} for query: '\\n    MATCH (c:Compound)\\n    WHERE NOT (c)-[:CtD|:CpD]->(:Disease)\\n    \\n    OPTIONAL MATCH (c)-[cu:CuG]->(g:Gene)<-[ad:AdG]-(a:Anatomy)\\n    OPTIONAL MATCH (c)-[cd:CdG]->(g2:Gene)<-[au:AuG]-(a2:Anatomy)\\n    \\n    WHERE (cu IS NOT NULL AND ad IS NOT NULL) \\n       OR (cd IS NOT NULL AND au IS NOT NULL)\\n\\n    RETURN DISTINCT c.id AS compound_id, c.name AS compound_name,\\n           COLLECT(DISTINCT a.name) + COLLECT(DISTINCT a2.name) AS related_anatomies\\n    '\n",
      "Received notification from DBMS server: {severity: WARNING} {code: Neo.ClientNotification.Statement.UnknownRelationshipTypeWarning} {category: UNRECOGNIZED} {title: The provided relationship type is not in the database.} {description: One of the relationship types in your query is not available in the database, make sure you didn't misspell it or that the label is available when you run this statement in your application (the missing relationship type is: CdG)} {position: line: 6, column: 28, offset: 162} for query: '\\n    MATCH (c:Compound)\\n    WHERE NOT (c)-[:CtD|:CpD]->(:Disease)\\n    \\n    OPTIONAL MATCH (c)-[cu:CuG]->(g:Gene)<-[ad:AdG]-(a:Anatomy)\\n    OPTIONAL MATCH (c)-[cd:CdG]->(g2:Gene)<-[au:AuG]-(a2:Anatomy)\\n    \\n    WHERE (cu IS NOT NULL AND ad IS NOT NULL) \\n       OR (cd IS NOT NULL AND au IS NOT NULL)\\n\\n    RETURN DISTINCT c.id AS compound_id, c.name AS compound_name,\\n           COLLECT(DISTINCT a.name) + COLLECT(DISTINCT a2.name) AS related_anatomies\\n    '\n",
      "Received notification from DBMS server: {severity: WARNING} {code: Neo.ClientNotification.Statement.UnknownLabelWarning} {category: UNRECOGNIZED} {title: The provided label is not in the database.} {description: One of the labels in your query is not available in the database, make sure you didn't misspell it or that the label is available when you run this statement in your application (the missing label name is: Compound)} {position: line: 2, column: 14, offset: 14} for query: '\\n    MATCH (c:Compound)\\n    WHERE NOT (c)-[:CtD|:CpD]->(:Disease)\\n    \\n    OPTIONAL MATCH (c)-[cu:CuG]->(g:Gene)<-[ad:AdG]-(a:Anatomy)\\n    OPTIONAL MATCH (c)-[cd:CdG]->(g2:Gene)<-[au:AuG]-(a2:Anatomy)\\n    \\n    WHERE (cu IS NOT NULL AND ad IS NOT NULL) \\n       OR (cd IS NOT NULL AND au IS NOT NULL)\\n\\n    RETURN DISTINCT c.id AS compound_id, c.name AS compound_name,\\n           COLLECT(DISTINCT a.name) + COLLECT(DISTINCT a2.name) AS related_anatomies\\n    '\n",
      "Received notification from DBMS server: {severity: WARNING} {code: Neo.ClientNotification.Statement.UnknownRelationshipTypeWarning} {category: UNRECOGNIZED} {title: The provided relationship type is not in the database.} {description: One of the relationship types in your query is not available in the database, make sure you didn't misspell it or that the label is available when you run this statement in your application (the missing relationship type is: CtD)} {position: line: 3, column: 21, offset: 44} for query: '\\n    MATCH (c:Compound)\\n    WHERE NOT (c)-[:CtD|:CpD]->(:Disease)\\n    \\n    OPTIONAL MATCH (c)-[cu:CuG]->(g:Gene)<-[ad:AdG]-(a:Anatomy)\\n    OPTIONAL MATCH (c)-[cd:CdG]->(g2:Gene)<-[au:AuG]-(a2:Anatomy)\\n    \\n    WHERE (cu IS NOT NULL AND ad IS NOT NULL) \\n       OR (cd IS NOT NULL AND au IS NOT NULL)\\n\\n    RETURN DISTINCT c.id AS compound_id, c.name AS compound_name,\\n           COLLECT(DISTINCT a.name) + COLLECT(DISTINCT a2.name) AS related_anatomies\\n    '\n",
      "Received notification from DBMS server: {severity: WARNING} {code: Neo.ClientNotification.Statement.UnknownLabelWarning} {category: UNRECOGNIZED} {title: The provided label is not in the database.} {description: One of the labels in your query is not available in the database, make sure you didn't misspell it or that the label is available when you run this statement in your application (the missing label name is: Anatomy)} {position: line: 5, column: 56, offset: 126} for query: '\\n    MATCH (c:Compound)\\n    WHERE NOT (c)-[:CtD|:CpD]->(:Disease)\\n    \\n    OPTIONAL MATCH (c)-[cu:CuG]->(g:Gene)<-[ad:AdG]-(a:Anatomy)\\n    OPTIONAL MATCH (c)-[cd:CdG]->(g2:Gene)<-[au:AuG]-(a2:Anatomy)\\n    \\n    WHERE (cu IS NOT NULL AND ad IS NOT NULL) \\n       OR (cd IS NOT NULL AND au IS NOT NULL)\\n\\n    RETURN DISTINCT c.id AS compound_id, c.name AS compound_name,\\n           COLLECT(DISTINCT a.name) + COLLECT(DISTINCT a2.name) AS related_anatomies\\n    '\n",
      "Received notification from DBMS server: {severity: WARNING} {code: Neo.ClientNotification.Statement.UnknownLabelWarning} {category: UNRECOGNIZED} {title: The provided label is not in the database.} {description: One of the labels in your query is not available in the database, make sure you didn't misspell it or that the label is available when you run this statement in your application (the missing label name is: Disease)} {position: line: 3, column: 34, offset: 57} for query: '\\n    MATCH (c:Compound)\\n    WHERE NOT (c)-[:CtD|:CpD]->(:Disease)\\n    \\n    OPTIONAL MATCH (c)-[cu:CuG]->(g:Gene)<-[ad:AdG]-(a:Anatomy)\\n    OPTIONAL MATCH (c)-[cd:CdG]->(g2:Gene)<-[au:AuG]-(a2:Anatomy)\\n    \\n    WHERE (cu IS NOT NULL AND ad IS NOT NULL) \\n       OR (cd IS NOT NULL AND au IS NOT NULL)\\n\\n    RETURN DISTINCT c.id AS compound_id, c.name AS compound_name,\\n           COLLECT(DISTINCT a.name) + COLLECT(DISTINCT a2.name) AS related_anatomies\\n    '\n",
      "Received notification from DBMS server: {severity: WARNING} {code: Neo.ClientNotification.Statement.UnknownLabelWarning} {category: UNRECOGNIZED} {title: The provided label is not in the database.} {description: One of the labels in your query is not available in the database, make sure you didn't misspell it or that the label is available when you run this statement in your application (the missing label name is: Gene)} {position: line: 5, column: 37, offset: 107} for query: '\\n    MATCH (c:Compound)\\n    WHERE NOT (c)-[:CtD|:CpD]->(:Disease)\\n    \\n    OPTIONAL MATCH (c)-[cu:CuG]->(g:Gene)<-[ad:AdG]-(a:Anatomy)\\n    OPTIONAL MATCH (c)-[cd:CdG]->(g2:Gene)<-[au:AuG]-(a2:Anatomy)\\n    \\n    WHERE (cu IS NOT NULL AND ad IS NOT NULL) \\n       OR (cd IS NOT NULL AND au IS NOT NULL)\\n\\n    RETURN DISTINCT c.id AS compound_id, c.name AS compound_name,\\n           COLLECT(DISTINCT a.name) + COLLECT(DISTINCT a2.name) AS related_anatomies\\n    '\n",
      "Received notification from DBMS server: {severity: WARNING} {code: Neo.ClientNotification.Statement.FeatureDeprecationWarning} {category: DEPRECATION} {title: This feature is deprecated and will be removed in future versions.} {description: The semantics of using colon in the separation of alternative relationship types will change in a future version. (Please use ':CtD|CpD' instead)} {position: line: 3, column: 24, offset: 47} for query: '\\n    MATCH (c:Compound)\\n    WHERE NOT (c)-[:CtD|:CpD]->(:Disease)\\n    \\n    OPTIONAL MATCH (c)-[cu:CuG]->(g:Gene)<-[ad:AdG]-(a:Anatomy)\\n    OPTIONAL MATCH (c)-[cd:CdG]->(g2:Gene)<-[au:AuG]-(a2:Anatomy)\\n    \\n    WHERE (cu IS NOT NULL AND ad IS NOT NULL) \\n       OR (cd IS NOT NULL AND au IS NOT NULL)\\n\\n    RETURN DISTINCT c.id AS compound_id, c.name AS compound_name,\\n           COLLECT(DISTINCT a.name) + COLLECT(DISTINCT a2.name) AS related_anatomies\\n    '\n",
      "Received notification from DBMS server: {severity: WARNING} {code: Neo.ClientNotification.Statement.UnknownRelationshipTypeWarning} {category: UNRECOGNIZED} {title: The provided relationship type is not in the database.} {description: One of the relationship types in your query is not available in the database, make sure you didn't misspell it or that the label is available when you run this statement in your application (the missing relationship type is: CpD)} {position: line: 3, column: 26, offset: 49} for query: '\\n    MATCH (c:Compound)\\n    WHERE NOT (c)-[:CtD|:CpD]->(:Disease)\\n    \\n    OPTIONAL MATCH (c)-[cu:CuG]->(g:Gene)<-[ad:AdG]-(a:Anatomy)\\n    OPTIONAL MATCH (c)-[cd:CdG]->(g2:Gene)<-[au:AuG]-(a2:Anatomy)\\n    \\n    WHERE (cu IS NOT NULL AND ad IS NOT NULL) \\n       OR (cd IS NOT NULL AND au IS NOT NULL)\\n\\n    RETURN DISTINCT c.id AS compound_id, c.name AS compound_name,\\n           COLLECT(DISTINCT a.name) + COLLECT(DISTINCT a2.name) AS related_anatomies\\n    '\n",
      "Received notification from DBMS server: {severity: WARNING} {code: Neo.ClientNotification.Statement.UnknownRelationshipTypeWarning} {category: UNRECOGNIZED} {title: The provided relationship type is not in the database.} {description: One of the relationship types in your query is not available in the database, make sure you didn't misspell it or that the label is available when you run this statement in your application (the missing relationship type is: AuG)} {position: line: 6, column: 49, offset: 183} for query: '\\n    MATCH (c:Compound)\\n    WHERE NOT (c)-[:CtD|:CpD]->(:Disease)\\n    \\n    OPTIONAL MATCH (c)-[cu:CuG]->(g:Gene)<-[ad:AdG]-(a:Anatomy)\\n    OPTIONAL MATCH (c)-[cd:CdG]->(g2:Gene)<-[au:AuG]-(a2:Anatomy)\\n    \\n    WHERE (cu IS NOT NULL AND ad IS NOT NULL) \\n       OR (cd IS NOT NULL AND au IS NOT NULL)\\n\\n    RETURN DISTINCT c.id AS compound_id, c.name AS compound_name,\\n           COLLECT(DISTINCT a.name) + COLLECT(DISTINCT a2.name) AS related_anatomies\\n    '\n",
      "Received notification from DBMS server: {severity: WARNING} {code: Neo.ClientNotification.Statement.UnknownLabelWarning} {category: UNRECOGNIZED} {title: The provided label is not in the database.} {description: One of the labels in your query is not available in the database, make sure you didn't misspell it or that the label is available when you run this statement in your application (the missing label name is: Anatomy)} {position: line: 6, column: 58, offset: 192} for query: '\\n    MATCH (c:Compound)\\n    WHERE NOT (c)-[:CtD|:CpD]->(:Disease)\\n    \\n    OPTIONAL MATCH (c)-[cu:CuG]->(g:Gene)<-[ad:AdG]-(a:Anatomy)\\n    OPTIONAL MATCH (c)-[cd:CdG]->(g2:Gene)<-[au:AuG]-(a2:Anatomy)\\n    \\n    WHERE (cu IS NOT NULL AND ad IS NOT NULL) \\n       OR (cd IS NOT NULL AND au IS NOT NULL)\\n\\n    RETURN DISTINCT c.id AS compound_id, c.name AS compound_name,\\n           COLLECT(DISTINCT a.name) + COLLECT(DISTINCT a2.name) AS related_anatomies\\n    '\n",
      "Received notification from DBMS server: {severity: WARNING} {code: Neo.ClientNotification.Statement.UnknownRelationshipTypeWarning} {category: UNRECOGNIZED} {title: The provided relationship type is not in the database.} {description: One of the relationship types in your query is not available in the database, make sure you didn't misspell it or that the label is available when you run this statement in your application (the missing relationship type is: AdG)} {position: line: 5, column: 48, offset: 118} for query: '\\n    MATCH (c:Compound)\\n    WHERE NOT (c)-[:CtD|:CpD]->(:Disease)\\n    \\n    OPTIONAL MATCH (c)-[cu:CuG]->(g:Gene)<-[ad:AdG]-(a:Anatomy)\\n    OPTIONAL MATCH (c)-[cd:CdG]->(g2:Gene)<-[au:AuG]-(a2:Anatomy)\\n    \\n    WHERE (cu IS NOT NULL AND ad IS NOT NULL) \\n       OR (cd IS NOT NULL AND au IS NOT NULL)\\n\\n    RETURN DISTINCT c.id AS compound_id, c.name AS compound_name,\\n           COLLECT(DISTINCT a.name) + COLLECT(DISTINCT a2.name) AS related_anatomies\\n    '\n",
      "Received notification from DBMS server: {severity: WARNING} {code: Neo.ClientNotification.Statement.UnknownLabelWarning} {category: UNRECOGNIZED} {title: The provided label is not in the database.} {description: One of the labels in your query is not available in the database, make sure you didn't misspell it or that the label is available when you run this statement in your application (the missing label name is: Gene)} {position: line: 6, column: 38, offset: 172} for query: '\\n    MATCH (c:Compound)\\n    WHERE NOT (c)-[:CtD|:CpD]->(:Disease)\\n    \\n    OPTIONAL MATCH (c)-[cu:CuG]->(g:Gene)<-[ad:AdG]-(a:Anatomy)\\n    OPTIONAL MATCH (c)-[cd:CdG]->(g2:Gene)<-[au:AuG]-(a2:Anatomy)\\n    \\n    WHERE (cu IS NOT NULL AND ad IS NOT NULL) \\n       OR (cd IS NOT NULL AND au IS NOT NULL)\\n\\n    RETURN DISTINCT c.id AS compound_id, c.name AS compound_name,\\n           COLLECT(DISTINCT a.name) + COLLECT(DISTINCT a2.name) AS related_anatomies\\n    '\n"
     ]
    }
   ],
   "source": [
    "compounds = query2(driver)"
   ]
  }
 ],
 "metadata": {
  "kernelspec": {
   "display_name": "base",
   "language": "python",
   "name": "python3"
  },
  "language_info": {
   "codemirror_mode": {
    "name": "ipython",
    "version": 3
   },
   "file_extension": ".py",
   "mimetype": "text/x-python",
   "name": "python",
   "nbconvert_exporter": "python",
   "pygments_lexer": "ipython3",
   "version": "3.12.4"
  }
 },
 "nbformat": 4,
 "nbformat_minor": 2
}
